{
 "cells": [
  {
   "cell_type": "code",
   "execution_count": 1,
   "metadata": {},
   "outputs": [],
   "source": [
    "import networkx as nx\n",
    "import numpy as np\n",
    "\n",
    "import pandas as pd\n",
    "\n",
    "from codes.dataset import *\n",
    "from codes.model import *\n",
    "\n",
    "import torch\n",
    "import torch.nn as nn\n",
    "import torch.nn.functional as F"
   ]
  },
  {
   "cell_type": "code",
   "execution_count": 2,
   "metadata": {},
   "outputs": [],
   "source": [
    "import torch_geometric as tg\n",
    "\n",
    "train_data = tg.datasets.PPI(root=\".\", split = \"train\")\n",
    "val_data = tg.datasets.PPI(root=\".\", split = \"val\")\n",
    "test_data = tg.datasets.PPI(root=\".\", split = \"test\")"
   ]
  },
  {
   "cell_type": "code",
   "execution_count": 3,
   "metadata": {},
   "outputs": [
    {
     "data": {
      "text/plain": [
       "PPI(20)"
      ]
     },
     "execution_count": 3,
     "metadata": {},
     "output_type": "execute_result"
    }
   ],
   "source": [
    "train_data"
   ]
  },
  {
   "cell_type": "code",
   "execution_count": 4,
   "metadata": {},
   "outputs": [
    {
     "data": {
      "text/plain": [
       "PPI(2)"
      ]
     },
     "execution_count": 4,
     "metadata": {},
     "output_type": "execute_result"
    }
   ],
   "source": [
    "test_data"
   ]
  },
  {
   "cell_type": "code",
   "execution_count": 5,
   "metadata": {},
   "outputs": [
    {
     "data": {
      "text/plain": [
       "PPI(2)"
      ]
     },
     "execution_count": 5,
     "metadata": {},
     "output_type": "execute_result"
    }
   ],
   "source": [
    "val_data"
   ]
  },
  {
   "cell_type": "code",
   "execution_count": 6,
   "metadata": {},
   "outputs": [
    {
     "data": {
      "text/plain": [
       "Data(edge_index=[2, 32318], x=[1767, 50], y=[1767, 121])"
      ]
     },
     "execution_count": 6,
     "metadata": {},
     "output_type": "execute_result"
    }
   ],
   "source": [
    "train_data[0]"
   ]
  },
  {
   "cell_type": "code",
   "execution_count": 17,
   "metadata": {},
   "outputs": [
    {
     "name": "stdout",
     "output_type": "stream",
     "text": [
      "Node: max: 3480, min: 591, mean: 2245.3\n",
      "Edge: max: 106754, min: 7708, mean: 61318.4\n"
     ]
    }
   ],
   "source": [
    "device = 'cpu'\n",
    "\n",
    "nodes = [data.num_nodes for data in train_data]\n",
    "edges = [data.num_edges for data in train_data]\n",
    "\n",
    "print('Node: max: {}, min: {}, mean: {}'.format(max(nodes), min(nodes), sum(nodes)/len(nodes)))\n",
    "print('Edge: max: {}, min: {}, mean: {}'.format(max(edges), min(edges), sum(edges)/len(edges)))\n",
    "\n",
    "\n",
    "# model\n",
    "num_features = train_data[0].x.shape[1]\n",
    "\n",
    "input_dim = num_features\n",
    "\n",
    "OUTPUT_DIM = 121\n",
    "FEATURE_DIM = 256\n",
    "HIDDEN_DIM = 256\n",
    "EPOCHS = 100\n",
    "LEARNING_RATE = 0.0001"
   ]
  },
  {
   "cell_type": "code",
   "execution_count": 18,
   "metadata": {},
   "outputs": [],
   "source": [
    "model = MulticlassModel(input_dim=input_dim, feature_dim=FEATURE_DIM, feature_pre=False, hidden_dim=HIDDEN_DIM, model_type=\"GraphSAGE\", aggregator = \"max\", output_dim=OUTPUT_DIM)\n",
    "\n",
    "optimizer = torch.optim.Adam(model.parameters(), lr=LEARNING_RATE)"
   ]
  },
  {
   "cell_type": "code",
   "execution_count": 19,
   "metadata": {},
   "outputs": [
    {
     "name": "stdout",
     "output_type": "stream",
     "text": [
      "Epoch 10/100, Train Loss 0.809, Test Loss 0.816, Train Accuracy 0.728, Test Accuracy 0.74\n",
      "Epoch 20/100, Train Loss 0.809, Test Loss 0.816, Train Accuracy 0.729, Test Accuracy 0.741\n",
      "Epoch 30/100, Train Loss 0.809, Test Loss 0.816, Train Accuracy 0.731, Test Accuracy 0.743\n",
      "Epoch 40/100, Train Loss 0.809, Test Loss 0.815, Train Accuracy 0.735, Test Accuracy 0.749\n",
      "Epoch 50/100, Train Loss 0.809, Test Loss 0.815, Train Accuracy 0.741, Test Accuracy 0.756\n",
      "Epoch 60/100, Train Loss 0.809, Test Loss 0.815, Train Accuracy 0.748, Test Accuracy 0.762\n",
      "Epoch 70/100, Train Loss 0.809, Test Loss 0.815, Train Accuracy 0.754, Test Accuracy 0.768\n",
      "Epoch 80/100, Train Loss 0.809, Test Loss 0.815, Train Accuracy 0.76, Test Accuracy 0.778\n",
      "Epoch 90/100, Train Loss 0.809, Test Loss 0.815, Train Accuracy 0.765, Test Accuracy 0.784\n",
      "Epoch 100/100, Train Loss 0.808, Test Loss 0.815, Train Accuracy 0.769, Test Accuracy 0.787\n"
     ]
    }
   ],
   "source": [
    "loss_func = nn.BCEWithLogitsLoss()\n",
    "\n",
    "train_loss = []\n",
    "test_loss = []\n",
    "\n",
    "train_acc = []\n",
    "test_acc = []\n",
    "\n",
    "for epoch in range(EPOCHS):\n",
    "    train_loss_temp = []\n",
    "    test_loss_temp = []\n",
    "\n",
    "    train_acc_temp = []\n",
    "    test_acc_temp = []\n",
    "    \n",
    "    model.train()\n",
    "\n",
    "    for i, data in enumerate(train_data):\n",
    "        \n",
    "        pred = model(data)\n",
    "        label = data.y\n",
    "\n",
    "        optimizer.zero_grad()\n",
    "\n",
    "        loss = loss_func(pred, label)\n",
    "\n",
    "        # update\n",
    "        loss.backward()\n",
    "        optimizer.step()\n",
    "        \n",
    "        accuracy = np.mean(label.numpy() == (pred.detach().numpy() > 0.5))\n",
    "        \n",
    "        print(\"Epoch {}/{}, Iteration {}/{}, Loss {}, Accuracy {}\".format(epoch + 1, EPOCHS, i + 1, len(train_data),\n",
    "                                                                         round(loss.item(), 3), round(accuracy, 3)),\n",
    "             end = \"\\r\", flush = True)\n",
    "        train_loss_temp.append(loss.item())\n",
    "        train_acc_temp.append(accuracy)\n",
    "    model.eval()\n",
    "    for i, data in enumerate(test_data):\n",
    "        \n",
    "        pred = model(data)\n",
    "        label = data.y\n",
    "        \n",
    "        loss = loss_func(pred, label)\n",
    "        \n",
    "        accuracy = np.mean(label.numpy() == (pred.detach().numpy() > 0.5))\n",
    "        \n",
    "        test_loss_temp.append(loss.item())\n",
    "        test_acc_temp.append(accuracy)\n",
    "        \n",
    "    \n",
    "    train_loss.append(np.mean(train_loss_temp))\n",
    "    test_loss.append(np.mean(test_loss_temp))\n",
    "\n",
    "    train_acc.append(np.mean(train_acc_temp))\n",
    "    test_acc.append(np.mean(test_acc_temp))\n",
    "    \n",
    "    if ((epoch + 1) % (EPOCHS // 10) == 0):\n",
    "        print(\"Epoch {}/{}, Train Loss {}, Test Loss {}, Train Accuracy {}, Test Accuracy {}\".format(epoch + 1, EPOCHS, round(np.mean(train_loss_temp), 3), round(np.mean(test_loss_temp), 3), \n",
    "                                                                                                     round(np.mean(train_acc_temp), 3), round(np.mean(test_acc_temp), 3)))"
   ]
  },
  {
   "cell_type": "code",
   "execution_count": 20,
   "metadata": {},
   "outputs": [],
   "source": [
    "from sklearn.metrics import roc_auc_score as roc_auc\n",
    "\n",
    "def calculate_roc(model, data):\n",
    "    preds = None\n",
    "    labels = None\n",
    "    \n",
    "    for d in data:\n",
    "        pred = model(d).detach().numpy().flatten()\n",
    "        label = d.y.numpy().flatten()\n",
    "\n",
    "        if preds is None:\n",
    "            preds = pred\n",
    "            labels = label\n",
    "        else:\n",
    "            preds = np.concatenate([preds, pred], axis = None)\n",
    "            labels = np.concatenate([labels, label], axis= None)\n",
    "\n",
    "    return roc_auc(label, pred)"
   ]
  },
  {
   "cell_type": "code",
   "execution_count": 21,
   "metadata": {},
   "outputs": [
    {
     "data": {
      "text/plain": [
       "0.8126529451404927"
      ]
     },
     "execution_count": 21,
     "metadata": {},
     "output_type": "execute_result"
    }
   ],
   "source": [
    "calculate_roc(model, val_data)"
   ]
  },
  {
   "cell_type": "code",
   "execution_count": null,
   "metadata": {},
   "outputs": [],
   "source": []
  }
 ],
 "metadata": {
  "kernelspec": {
   "display_name": "Python 3",
   "language": "python",
   "name": "python3"
  },
  "language_info": {
   "codemirror_mode": {
    "name": "ipython",
    "version": 3
   },
   "file_extension": ".py",
   "mimetype": "text/x-python",
   "name": "python",
   "nbconvert_exporter": "python",
   "pygments_lexer": "ipython3",
   "version": "3.7.6"
  }
 },
 "nbformat": 4,
 "nbformat_minor": 4
}
